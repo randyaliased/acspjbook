{
 "cells": [
  {
   "cell_type": "code",
   "execution_count": null,
   "id": "ba8d310e",
   "metadata": {
    "vscode": {
     "languageId": "plaintext"
    }
   },
   "outputs": [],
   "source": [
    "# This is how to read audio data from a URL in Pyodide!\n",
    "\n",
    "import io\n",
    "from scipy.io import wavfile\n",
    "from pyodide.http import pyfetch\n",
    "\n",
    "# Must be the RAW link, not GitHub HTML\n",
    "url = \"https://raw.githubusercontent.com/randyaliased/acspjbook/main/book/audio/F2.wav\"\n",
    "\n",
    "async def read_wav_from_url(url):\n",
    "    response = await pyfetch(url)\n",
    "    wav_bytes = await response.bytes()  # get raw binary\n",
    "    return wavfile.read(io.BytesIO(wav_bytes))\n",
    "\n",
    "# Call it\n",
    "rate, data = await read_wav_from_url(url)\n",
    "\n",
    "plt.plot(data)\n",
    "plt.show()"
   ]
  }
 ],
 "metadata": {
  "language_info": {
   "name": "python"
  }
 },
 "nbformat": 4,
 "nbformat_minor": 5
}
